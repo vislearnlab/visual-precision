{
 "cells": [
  {
   "cell_type": "code",
   "execution_count": 2,
   "metadata": {},
   "outputs": [
    {
     "name": "stderr",
     "output_type": "stream",
     "text": [
      "/opt/miniconda3/envs/lwlpipeline/lib/python3.12/site-packages/pydantic/_migration.py:283: UserWarning: `pydantic.error_wrappers:ValidationError` has been moved to `pydantic:ValidationError`.\n",
      "  warnings.warn(f'`{import_path}` has been moved to `{new_location}`.')\n"
     ]
    }
   ],
   "source": [
    "from vislearnlabpy.embeddings.generate_embeddings import EmbeddingGenerator\n",
    "from vislearnlabpy.embeddings.embedding_store import EmbeddingStore\n",
    "from vislearnlabpy.embeddings.utils import display_search_results, zscore_embeddings \n",
    "import numpy as np\n",
    "import pandas as pd\n",
    "import os\n",
    "from pathlib import Path"
   ]
  },
  {
   "cell_type": "code",
   "execution_count": 7,
   "metadata": {},
   "outputs": [],
   "source": [
    "exp2_pairs = pd.read_csv(\"exp2_pairs.csv\")\n",
    "THINGS_DIR = \"/Users/visuallearninglab/Documents/visvocab/data/raw/THINGS\""
   ]
  },
  {
   "cell_type": "code",
   "execution_count": 8,
   "metadata": {},
   "outputs": [
    {
     "data": {
      "text/html": [
       "<div>\n",
       "<style scoped>\n",
       "    .dataframe tbody tr th:only-of-type {\n",
       "        vertical-align: middle;\n",
       "    }\n",
       "\n",
       "    .dataframe tbody tr th {\n",
       "        vertical-align: top;\n",
       "    }\n",
       "\n",
       "    .dataframe thead th {\n",
       "        text-align: right;\n",
       "    }\n",
       "</style>\n",
       "<table border=\"1\" class=\"dataframe\">\n",
       "  <thead>\n",
       "    <tr style=\"text-align: right;\">\n",
       "      <th></th>\n",
       "      <th>Unnamed: 0</th>\n",
       "      <th>text1</th>\n",
       "      <th>text2</th>\n",
       "      <th>source</th>\n",
       "      <th>aoa_word1</th>\n",
       "      <th>aoa_word2</th>\n",
       "      <th>is_animate</th>\n",
       "      <th>image1</th>\n",
       "      <th>image2</th>\n",
       "    </tr>\n",
       "  </thead>\n",
       "  <tbody>\n",
       "    <tr>\n",
       "      <th>0</th>\n",
       "      <td>1</td>\n",
       "      <td>airplane</td>\n",
       "      <td>baby</td>\n",
       "      <td>Kuperman</td>\n",
       "      <td>3.94</td>\n",
       "      <td>3.84</td>\n",
       "      <td>False</td>\n",
       "      <td>airplane.jpg</td>\n",
       "      <td>baby.jpg</td>\n",
       "    </tr>\n",
       "    <tr>\n",
       "      <th>1</th>\n",
       "      <td>2</td>\n",
       "      <td>airplane</td>\n",
       "      <td>bag</td>\n",
       "      <td>Kuperman</td>\n",
       "      <td>3.94</td>\n",
       "      <td>4.28</td>\n",
       "      <td>False</td>\n",
       "      <td>airplane.jpg</td>\n",
       "      <td>bag.jpg</td>\n",
       "    </tr>\n",
       "    <tr>\n",
       "      <th>2</th>\n",
       "      <td>3</td>\n",
       "      <td>airplane</td>\n",
       "      <td>balloon</td>\n",
       "      <td>Kuperman</td>\n",
       "      <td>3.94</td>\n",
       "      <td>4.37</td>\n",
       "      <td>False</td>\n",
       "      <td>airplane.jpg</td>\n",
       "      <td>balloon.jpg</td>\n",
       "    </tr>\n",
       "    <tr>\n",
       "      <th>3</th>\n",
       "      <td>4</td>\n",
       "      <td>airplane</td>\n",
       "      <td>bell</td>\n",
       "      <td>Kuperman</td>\n",
       "      <td>3.94</td>\n",
       "      <td>3.89</td>\n",
       "      <td>False</td>\n",
       "      <td>airplane.jpg</td>\n",
       "      <td>bell.jpg</td>\n",
       "    </tr>\n",
       "    <tr>\n",
       "      <th>4</th>\n",
       "      <td>5</td>\n",
       "      <td>airplane</td>\n",
       "      <td>bench</td>\n",
       "      <td>Kuperman</td>\n",
       "      <td>3.94</td>\n",
       "      <td>4.21</td>\n",
       "      <td>False</td>\n",
       "      <td>airplane.jpg</td>\n",
       "      <td>bench.jpg</td>\n",
       "    </tr>\n",
       "    <tr>\n",
       "      <th>...</th>\n",
       "      <td>...</td>\n",
       "      <td>...</td>\n",
       "      <td>...</td>\n",
       "      <td>...</td>\n",
       "      <td>...</td>\n",
       "      <td>...</td>\n",
       "      <td>...</td>\n",
       "      <td>...</td>\n",
       "      <td>...</td>\n",
       "    </tr>\n",
       "    <tr>\n",
       "      <th>27522</th>\n",
       "      <td>27523</td>\n",
       "      <td>vacuum</td>\n",
       "      <td>watch</td>\n",
       "      <td>Wordbank</td>\n",
       "      <td>2.05</td>\n",
       "      <td>2.12</td>\n",
       "      <td>False</td>\n",
       "      <td>vacuum.jpg</td>\n",
       "      <td>watch.jpg</td>\n",
       "    </tr>\n",
       "    <tr>\n",
       "      <th>27523</th>\n",
       "      <td>27524</td>\n",
       "      <td>vacuum</td>\n",
       "      <td>window</td>\n",
       "      <td>Wordbank</td>\n",
       "      <td>2.05</td>\n",
       "      <td>2.06</td>\n",
       "      <td>False</td>\n",
       "      <td>vacuum.jpg</td>\n",
       "      <td>window.jpg</td>\n",
       "    </tr>\n",
       "    <tr>\n",
       "      <th>27524</th>\n",
       "      <td>27525</td>\n",
       "      <td>vacuum</td>\n",
       "      <td>zipper</td>\n",
       "      <td>Wordbank</td>\n",
       "      <td>2.05</td>\n",
       "      <td>2.08</td>\n",
       "      <td>False</td>\n",
       "      <td>vacuum.jpg</td>\n",
       "      <td>zipper.jpg</td>\n",
       "    </tr>\n",
       "    <tr>\n",
       "      <th>27525</th>\n",
       "      <td>27526</td>\n",
       "      <td>washing machine</td>\n",
       "      <td>watch</td>\n",
       "      <td>Wordbank</td>\n",
       "      <td>2.27</td>\n",
       "      <td>2.12</td>\n",
       "      <td>False</td>\n",
       "      <td>washing_machine.jpg</td>\n",
       "      <td>watch.jpg</td>\n",
       "    </tr>\n",
       "    <tr>\n",
       "      <th>27526</th>\n",
       "      <td>27527</td>\n",
       "      <td>watch</td>\n",
       "      <td>zipper</td>\n",
       "      <td>Wordbank</td>\n",
       "      <td>2.12</td>\n",
       "      <td>2.08</td>\n",
       "      <td>False</td>\n",
       "      <td>watch.jpg</td>\n",
       "      <td>zipper.jpg</td>\n",
       "    </tr>\n",
       "  </tbody>\n",
       "</table>\n",
       "<p>27527 rows × 9 columns</p>\n",
       "</div>"
      ],
      "text/plain": [
       "       Unnamed: 0            text1    text2    source  aoa_word1  aoa_word2  \\\n",
       "0               1         airplane     baby  Kuperman       3.94       3.84   \n",
       "1               2         airplane      bag  Kuperman       3.94       4.28   \n",
       "2               3         airplane  balloon  Kuperman       3.94       4.37   \n",
       "3               4         airplane     bell  Kuperman       3.94       3.89   \n",
       "4               5         airplane    bench  Kuperman       3.94       4.21   \n",
       "...           ...              ...      ...       ...        ...        ...   \n",
       "27522       27523           vacuum    watch  Wordbank       2.05       2.12   \n",
       "27523       27524           vacuum   window  Wordbank       2.05       2.06   \n",
       "27524       27525           vacuum   zipper  Wordbank       2.05       2.08   \n",
       "27525       27526  washing machine    watch  Wordbank       2.27       2.12   \n",
       "27526       27527            watch   zipper  Wordbank       2.12       2.08   \n",
       "\n",
       "       is_animate               image1       image2  \n",
       "0           False         airplane.jpg     baby.jpg  \n",
       "1           False         airplane.jpg      bag.jpg  \n",
       "2           False         airplane.jpg  balloon.jpg  \n",
       "3           False         airplane.jpg     bell.jpg  \n",
       "4           False         airplane.jpg    bench.jpg  \n",
       "...           ...                  ...          ...  \n",
       "27522       False           vacuum.jpg    watch.jpg  \n",
       "27523       False           vacuum.jpg   window.jpg  \n",
       "27524       False           vacuum.jpg   zipper.jpg  \n",
       "27525       False  washing_machine.jpg    watch.jpg  \n",
       "27526       False            watch.jpg   zipper.jpg  \n",
       "\n",
       "[27527 rows x 9 columns]"
      ]
     },
     "execution_count": 8,
     "metadata": {},
     "output_type": "execute_result"
    }
   ],
   "source": [
    "exp2_pairs"
   ]
  },
  {
   "cell_type": "code",
   "execution_count": 24,
   "metadata": {},
   "outputs": [],
   "source": [
    "clip_generator = EmbeddingGenerator(model_type=\"clip\", device=\"mps\", output_type=\"doc\") "
   ]
  },
  {
   "cell_type": "markdown",
   "metadata": {},
   "source": [
    "Only retrieve the unique images and texts for more efficiency"
   ]
  },
  {
   "cell_type": "code",
   "execution_count": 9,
   "metadata": {},
   "outputs": [],
   "source": [
    "df1 = exp2_pairs[['image1', 'text1']]\n",
    "df2 = exp2_pairs[['image2', 'text2']].rename(columns={'image2': 'image1', 'text2': 'text1'})\n",
    "exp2_values_unique = pd.concat([df1, df2], ignore_index=True).drop_duplicates()\n",
    "exp2_values_unique.to_csv(\"exp2_unique_pairs.csv\", index=False)"
   ]
  },
  {
   "cell_type": "code",
   "execution_count": 43,
   "metadata": {},
   "outputs": [
    {
     "data": {
      "text/html": [
       "<div>\n",
       "<style scoped>\n",
       "    .dataframe tbody tr th:only-of-type {\n",
       "        vertical-align: middle;\n",
       "    }\n",
       "\n",
       "    .dataframe tbody tr th {\n",
       "        vertical-align: top;\n",
       "    }\n",
       "\n",
       "    .dataframe thead th {\n",
       "        text-align: right;\n",
       "    }\n",
       "</style>\n",
       "<table border=\"1\" class=\"dataframe\">\n",
       "  <thead>\n",
       "    <tr style=\"text-align: right;\">\n",
       "      <th></th>\n",
       "      <th>image1</th>\n",
       "      <th>text1</th>\n",
       "    </tr>\n",
       "  </thead>\n",
       "  <tbody>\n",
       "    <tr>\n",
       "      <th>0</th>\n",
       "      <td>airplane.jpg</td>\n",
       "      <td>airplane</td>\n",
       "    </tr>\n",
       "    <tr>\n",
       "      <th>120</th>\n",
       "      <td>alligator.jpg</td>\n",
       "      <td>alligator</td>\n",
       "    </tr>\n",
       "    <tr>\n",
       "      <th>146</th>\n",
       "      <td>anchor.jpg</td>\n",
       "      <td>anchor</td>\n",
       "    </tr>\n",
       "    <tr>\n",
       "      <th>303</th>\n",
       "      <td>ankle.jpg</td>\n",
       "      <td>ankle</td>\n",
       "    </tr>\n",
       "    <tr>\n",
       "      <th>497</th>\n",
       "      <td>ant.jpg</td>\n",
       "      <td>ant</td>\n",
       "    </tr>\n",
       "    <tr>\n",
       "      <th>...</th>\n",
       "      <td>...</td>\n",
       "      <td>...</td>\n",
       "    </tr>\n",
       "    <tr>\n",
       "      <th>43809</th>\n",
       "      <td>zipper.jpg</td>\n",
       "      <td>zipper</td>\n",
       "    </tr>\n",
       "    <tr>\n",
       "      <th>47055</th>\n",
       "      <td>spider.jpg</td>\n",
       "      <td>spider</td>\n",
       "    </tr>\n",
       "    <tr>\n",
       "      <th>47262</th>\n",
       "      <td>whale.jpg</td>\n",
       "      <td>whale</td>\n",
       "    </tr>\n",
       "    <tr>\n",
       "      <th>86399</th>\n",
       "      <td>walker1.jpg</td>\n",
       "      <td>walker</td>\n",
       "    </tr>\n",
       "    <tr>\n",
       "      <th>86400</th>\n",
       "      <td>walker2.jpg</td>\n",
       "      <td>walker</td>\n",
       "    </tr>\n",
       "  </tbody>\n",
       "</table>\n",
       "<p>550 rows × 2 columns</p>\n",
       "</div>"
      ],
      "text/plain": [
       "              image1      text1\n",
       "0       airplane.jpg   airplane\n",
       "120    alligator.jpg  alligator\n",
       "146       anchor.jpg     anchor\n",
       "303        ankle.jpg      ankle\n",
       "497          ant.jpg        ant\n",
       "...              ...        ...\n",
       "43809     zipper.jpg     zipper\n",
       "47055     spider.jpg     spider\n",
       "47262      whale.jpg      whale\n",
       "86399    walker1.jpg     walker\n",
       "86400    walker2.jpg     walker\n",
       "\n",
       "[550 rows x 2 columns]"
      ]
     },
     "execution_count": 43,
     "metadata": {},
     "output_type": "execute_result"
    }
   ],
   "source": [
    "exp2_values_unique"
   ]
  },
  {
   "cell_type": "code",
   "execution_count": 44,
   "metadata": {},
   "outputs": [
    {
     "name": "stderr",
     "output_type": "stream",
     "text": [
      "100it [00:00, 16515.61it/s]:   0%|          | 0/6 [00:00<?, ?it/s]\n",
      "100it [00:00, 53649.32it/s]:  17%|█▋        | 1/6 [00:07<00:39,  7.98s/it]\n",
      "100it [00:00, 58278.50it/s]:  33%|███▎      | 2/6 [00:11<00:21,  5.30s/it]\n",
      "100it [00:00, 30572.96it/s]:  50%|█████     | 3/6 [00:14<00:12,  4.29s/it]\n",
      "100it [00:00, 79663.89it/s]:  67%|██████▋   | 4/6 [00:17<00:07,  3.89s/it]\n",
      "50it [00:00, 81696.61it/s]s:  83%|████████▎ | 5/6 [00:21<00:03,  3.91s/it]\n",
      "Calculating clip embeddings: 100%|██████████| 6/6 [00:23<00:00,  3.86s/it]\n",
      "Calculating text embeddings: 100%|██████████| 533/533 [00:06<00:00, 76.76it/s]\n"
     ]
    }
   ],
   "source": [
    "clip_generator.generate_image_embeddings(output_path=\"exp2_embeddings\", overwrite=True, input_csv=\"exp2_unique_pairs.csv\",\n",
    "                                       input_dir=\"/Users/visuallearninglab/Documents/visvocab/data/raw/THINGS\",\n",
    "                                       batch_size=100, id_column=\"image1\")"
   ]
  },
  {
   "cell_type": "code",
   "execution_count": 3,
   "metadata": {},
   "outputs": [
    {
     "name": "stderr",
     "output_type": "stream",
     "text": [
      "WARNING:root:local_cache is not supported for \"file\" protocol\n"
     ]
    },
    {
     "data": {
      "text/html": [
       "<pre style=\"white-space:pre;overflow-x:auto;line-height:normal;font-family:Menlo,'DejaVu Sans Mono',consolas,'Courier New',monospace\">/opt/miniconda3/envs/lwlpipeline/lib/python3.12/site-packages/rich/live.py:231: UserWarning: install \"ipywidgets\" \n",
       "for Jupyter support\n",
       "  warnings.warn('install \"ipywidgets\" for Jupyter support')\n",
       "</pre>\n"
      ],
      "text/plain": [
       "/opt/miniconda3/envs/lwlpipeline/lib/python3.12/site-packages/rich/live.py:231: UserWarning: install \"ipywidgets\" \n",
       "for Jupyter support\n",
       "  warnings.warn('install \"ipywidgets\" for Jupyter support')\n"
      ]
     },
     "metadata": {},
     "output_type": "display_data"
    },
    {
     "data": {
      "text/html": [
       "<pre style=\"white-space:pre;overflow-x:auto;line-height:normal;font-family:Menlo,'DejaVu Sans Mono',consolas,'Courier New',monospace\"></pre>\n"
      ],
      "text/plain": []
     },
     "metadata": {},
     "output_type": "display_data"
    },
    {
     "name": "stderr",
     "output_type": "stream",
     "text": [
      "WARNING:root:local_cache is not supported for \"file\" protocol\n"
     ]
    },
    {
     "data": {
      "text/html": [
       "<pre style=\"white-space:pre;overflow-x:auto;line-height:normal;font-family:Menlo,'DejaVu Sans Mono',consolas,'Courier New',monospace\"></pre>\n"
      ],
      "text/plain": []
     },
     "metadata": {},
     "output_type": "display_data"
    }
   ],
   "source": [
    "text_embedding_store = EmbeddingStore.from_doc(\"exp2_embeddings/text_embeddings/clip_text_embeddings_doc.docs\")\n",
    "image_embedding_store = EmbeddingStore.from_doc(\"exp2_embeddings/image_embeddings/clip_image_embeddings_doc.docs\")"
   ]
  },
  {
   "cell_type": "code",
   "execution_count": 46,
   "metadata": {},
   "outputs": [],
   "source": [
    "import copy\n",
    "image_embedding_store_sims = copy.deepcopy(image_embedding_store)\n",
    "\n",
    "# Remove 'url' key from each embedding dict\n",
    "for embedding in image_embedding_store_sims.EmbeddingList:\n",
    "    embedding.url = None "
   ]
  },
  {
   "cell_type": "code",
   "execution_count": 10,
   "metadata": {},
   "outputs": [],
   "source": [
    "image_pairs = exp2_pairs[['image1', 'image2']].values.tolist()\n",
    "# Prepend THINGS_DIR to each image path in each pair\n",
    "full_image_paths = [[os.path.join(THINGS_DIR, img) for img in pair] for pair in image_pairs]\n",
    "image_sims = image_embedding_store.retrieve_similarities(output_path=\"exp2_image_sims.csv\", text_pairs=full_image_paths)"
   ]
  },
  {
   "cell_type": "code",
   "execution_count": 11,
   "metadata": {},
   "outputs": [],
   "source": [
    "text_sims = text_embedding_store.retrieve_similarities(text_pairs=exp2_pairs[['text1', 'text2']].values.tolist())"
   ]
  },
  {
   "cell_type": "code",
   "execution_count": 12,
   "metadata": {},
   "outputs": [
    {
     "name": "stderr",
     "output_type": "stream",
     "text": [
      "/opt/miniconda3/envs/lwlpipeline/lib/python3.12/site-packages/pandas/io/formats/format.py:1458: RuntimeWarning: overflow encountered in cast\n",
      "  has_large_values = (abs_vals > 1e6).any()\n"
     ]
    },
    {
     "data": {
      "text/html": [
       "<div>\n",
       "<style scoped>\n",
       "    .dataframe tbody tr th:only-of-type {\n",
       "        vertical-align: middle;\n",
       "    }\n",
       "\n",
       "    .dataframe tbody tr th {\n",
       "        vertical-align: top;\n",
       "    }\n",
       "\n",
       "    .dataframe thead th {\n",
       "        text-align: right;\n",
       "    }\n",
       "</style>\n",
       "<table border=\"1\" class=\"dataframe\">\n",
       "  <thead>\n",
       "    <tr style=\"text-align: right;\">\n",
       "      <th></th>\n",
       "      <th>cosine_similarity</th>\n",
       "      <th>text1</th>\n",
       "      <th>text2</th>\n",
       "    </tr>\n",
       "  </thead>\n",
       "  <tbody>\n",
       "    <tr>\n",
       "      <th>23792</th>\n",
       "      <td>0.774902</td>\n",
       "      <td>soap</td>\n",
       "      <td>sock</td>\n",
       "    </tr>\n",
       "    <tr>\n",
       "      <th>23793</th>\n",
       "      <td>0.776855</td>\n",
       "      <td>soap</td>\n",
       "      <td>toe</td>\n",
       "    </tr>\n",
       "    <tr>\n",
       "      <th>23794</th>\n",
       "      <td>0.810059</td>\n",
       "      <td>soap</td>\n",
       "      <td>toilet</td>\n",
       "    </tr>\n",
       "    <tr>\n",
       "      <th>23795</th>\n",
       "      <td>0.804688</td>\n",
       "      <td>soap</td>\n",
       "      <td>tooth</td>\n",
       "    </tr>\n",
       "    <tr>\n",
       "      <th>23796</th>\n",
       "      <td>0.822754</td>\n",
       "      <td>soap</td>\n",
       "      <td>toothpaste</td>\n",
       "    </tr>\n",
       "    <tr>\n",
       "      <th>23797</th>\n",
       "      <td>0.783691</td>\n",
       "      <td>soap</td>\n",
       "      <td>towel</td>\n",
       "    </tr>\n",
       "    <tr>\n",
       "      <th>23798</th>\n",
       "      <td>0.824219</td>\n",
       "      <td>soap</td>\n",
       "      <td>toy</td>\n",
       "    </tr>\n",
       "    <tr>\n",
       "      <th>23799</th>\n",
       "      <td>0.759277</td>\n",
       "      <td>soap</td>\n",
       "      <td>tree</td>\n",
       "    </tr>\n",
       "    <tr>\n",
       "      <th>27425</th>\n",
       "      <td>0.745605</td>\n",
       "      <td>soap</td>\n",
       "      <td>spaghetti</td>\n",
       "    </tr>\n",
       "    <tr>\n",
       "      <th>27426</th>\n",
       "      <td>0.729004</td>\n",
       "      <td>soap</td>\n",
       "      <td>stick</td>\n",
       "    </tr>\n",
       "    <tr>\n",
       "      <th>27427</th>\n",
       "      <td>0.668945</td>\n",
       "      <td>soap</td>\n",
       "      <td>stroller</td>\n",
       "    </tr>\n",
       "    <tr>\n",
       "      <th>27428</th>\n",
       "      <td>0.668457</td>\n",
       "      <td>soap</td>\n",
       "      <td>swing</td>\n",
       "    </tr>\n",
       "    <tr>\n",
       "      <th>27429</th>\n",
       "      <td>0.753906</td>\n",
       "      <td>soap</td>\n",
       "      <td>table</td>\n",
       "    </tr>\n",
       "    <tr>\n",
       "      <th>27430</th>\n",
       "      <td>0.766113</td>\n",
       "      <td>soap</td>\n",
       "      <td>tongue</td>\n",
       "    </tr>\n",
       "    <tr>\n",
       "      <th>27431</th>\n",
       "      <td>0.783203</td>\n",
       "      <td>soap</td>\n",
       "      <td>toothbrush</td>\n",
       "    </tr>\n",
       "    <tr>\n",
       "      <th>27432</th>\n",
       "      <td>0.795410</td>\n",
       "      <td>soap</td>\n",
       "      <td>train</td>\n",
       "    </tr>\n",
       "    <tr>\n",
       "      <th>27433</th>\n",
       "      <td>0.744141</td>\n",
       "      <td>soap</td>\n",
       "      <td>vacuum</td>\n",
       "    </tr>\n",
       "    <tr>\n",
       "      <th>27434</th>\n",
       "      <td>0.752441</td>\n",
       "      <td>soap</td>\n",
       "      <td>window</td>\n",
       "    </tr>\n",
       "  </tbody>\n",
       "</table>\n",
       "</div>"
      ],
      "text/plain": [
       "       cosine_similarity text1       text2\n",
       "23792           0.774902  soap        sock\n",
       "23793           0.776855  soap         toe\n",
       "23794           0.810059  soap      toilet\n",
       "23795           0.804688  soap       tooth\n",
       "23796           0.822754  soap  toothpaste\n",
       "23797           0.783691  soap       towel\n",
       "23798           0.824219  soap         toy\n",
       "23799           0.759277  soap        tree\n",
       "27425           0.745605  soap   spaghetti\n",
       "27426           0.729004  soap       stick\n",
       "27427           0.668945  soap    stroller\n",
       "27428           0.668457  soap       swing\n",
       "27429           0.753906  soap       table\n",
       "27430           0.766113  soap      tongue\n",
       "27431           0.783203  soap  toothbrush\n",
       "27432           0.795410  soap       train\n",
       "27433           0.744141  soap      vacuum\n",
       "27434           0.752441  soap      window"
      ]
     },
     "execution_count": 12,
     "metadata": {},
     "output_type": "execute_result"
    }
   ],
   "source": [
    "text_sims[text_sims['text1'] == 'soap']"
   ]
  },
  {
   "cell_type": "markdown",
   "metadata": {},
   "source": [
    "Now combining image and text sim values"
   ]
  },
  {
   "cell_type": "code",
   "execution_count": 70,
   "metadata": {},
   "outputs": [
    {
     "name": "stderr",
     "output_type": "stream",
     "text": [
      "/var/folders/r4/7cy8jg112lb_z8ky722d5snh0000gp/T/ipykernel_61099/1482482229.py:8: FutureWarning: DataFrame.applymap has been deprecated. Use DataFrame.map instead.\n",
      "  image_sims[['image1', 'image2']] = image_sims[['image1', 'image2']].applymap(lambda p: Path(p).name)\n"
     ]
    }
   ],
   "source": [
    "from pathlib import Path\n",
    "\n",
    "# Step 1: Rename columns\n",
    "image_sims = image_sims.rename(columns={'text1': 'image1', 'text2': 'image2', 'cosine_similarity': 'image_sim'})\n",
    "text_sims = text_sims.rename(columns={'cosine_similarity': 'text_sim'})\n",
    "\n",
    "# Step 2: Replace full paths with only file names (path.name)\n",
    "image_sims[['image1', 'image2']] = image_sims[['image1', 'image2']].applymap(lambda p: Path(p).name)\n",
    "\n",
    "# Step 3: Combine image_sims and text_sims column-wise (cbind)\n",
    "combined_sims = pd.concat([image_sims.reset_index(drop=True), text_sims.reset_index(drop=True)], axis=1)\n"
   ]
  },
  {
   "cell_type": "code",
   "execution_count": 71,
   "metadata": {},
   "outputs": [],
   "source": [
    "combined_sims.to_csv(\"exp2_sims.csv\", index=False)"
   ]
  }
 ],
 "metadata": {
  "kernelspec": {
   "display_name": "lwlpipeline",
   "language": "python",
   "name": "python3"
  },
  "language_info": {
   "codemirror_mode": {
    "name": "ipython",
    "version": 3
   },
   "file_extension": ".py",
   "mimetype": "text/x-python",
   "name": "python",
   "nbconvert_exporter": "python",
   "pygments_lexer": "ipython3",
   "version": "3.12.7"
  }
 },
 "nbformat": 4,
 "nbformat_minor": 2
}
